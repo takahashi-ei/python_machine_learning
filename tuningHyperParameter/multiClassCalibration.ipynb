{
 "cells": [
  {
   "cell_type": "markdown",
   "metadata": {},
   "source": [
    "# 概要"
   ]
  },
  {
   "cell_type": "markdown",
   "metadata": {},
   "source": [
    "2値分類問題を1対全分類を使って、性能指標を多クラス問題に拡張するもの<br>\n",
    "scikit-learnには、マクロ平均法とマイクロ平均法が実装されている<br>\n",
    "\n",
    "マイクロ平均は、下記のように求めることができる<br>\n",
    "$PRE_{micro}=\\frac{TP_1+TP_2+・・・TP_k}{TP_1+・・・+TP_k+FP_1+・・・+FP_k}$<br>\n",
    "\n",
    "マクロ平均は、下記のように求めることができる<br>\n",
    "$PRE_{macro}=\\frac{PRE_1+PRE_2+・・・PRE_k}{k}$<br>"
   ]
  },
  {
   "cell_type": "markdown",
   "metadata": {},
   "source": [
    "マイクロ平均は、各インスタンスまたは予測を平等に重みづけしたい場合である。<br>\n",
    "マクロ平均は、最も出現するクラスラベルに過度の影響を受けることなく分類木の全体的な性能を評価するあめに、<br>\n",
    "すべてのクラスを平等に重みづけする<br>"
   ]
  },
  {
   "cell_type": "code",
   "execution_count": null,
   "metadata": {
    "collapsed": true
   },
   "outputs": [],
   "source": []
  }
 ],
 "metadata": {
  "kernelspec": {
   "display_name": "Python 3",
   "language": "python",
   "name": "python3"
  },
  "language_info": {
   "codemirror_mode": {
    "name": "ipython",
    "version": 3
   },
   "file_extension": ".py",
   "mimetype": "text/x-python",
   "name": "python",
   "nbconvert_exporter": "python",
   "pygments_lexer": "ipython3",
   "version": "3.6.1"
  }
 },
 "nbformat": 4,
 "nbformat_minor": 2
}
