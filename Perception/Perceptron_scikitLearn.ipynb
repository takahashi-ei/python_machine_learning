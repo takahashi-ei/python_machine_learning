{
 "cells": [
  {
   "cell_type": "code",
   "execution_count": 3,
   "metadata": {},
   "outputs": [
    {
     "name": "stderr",
     "output_type": "stream",
     "text": [
      "E:\\Anaconda_3.4.2\\lib\\site-packages\\sklearn\\cross_validation.py:44: DeprecationWarning: This module was deprecated in version 0.18 in favor of the model_selection module into which all the refactored classes and functions are moved. Also note that the interface of the new CV iterators are different from that of this module. This module will be removed in 0.20.\n",
      "  \"This module will be removed in 0.20.\", DeprecationWarning)\n"
     ]
    }
   ],
   "source": [
    "#テストデータとトレインデータの分類\n",
    "#sklearnで用意されている関数を使って分類する\n",
    "from sklearn import datasets\n",
    "import numpy as np\n",
    "from sklearn.cross_validation import train_test_split\n",
    "\n",
    "#Irisデータセットをロード\n",
    "iris = datasets.load_iris()\n",
    "\n",
    "#3列目4列目の特徴量を抽出\n",
    "X = iris.data[:,[2,3]]\n",
    "#クラスラベルを取得\n",
    "y = iris.target\n",
    "\n",
    "#トレーニングデータとテストデータに分類\n",
    "#sklearnで用意されている関数を使って分離する\n",
    "#全体の30%をテストデータにする\n",
    "X_train,X_test,y_train,y_test = train_test_split(\\\n",
    "                                                X,y,test_size=0.3,random_state=0)"
   ]
  },
  {
   "cell_type": "code",
   "execution_count": 5,
   "metadata": {
    "collapsed": true
   },
   "outputs": [],
   "source": [
    "#StandardScalerをつかって、トレーニングデータを標準化\n",
    "from sklearn.preprocessing import StandardScaler\n",
    "\n",
    "sc = StandardScaler()\n",
    "#トレーニングデータの平均と標準偏差を計算\n",
    "sc.fit(X_train)\n",
    "#平均と標準偏差を用いて標準化\n",
    "X_train_std = sc.transform(X_train)\n",
    "X_test_std = sc.transform(X_test)\n"
   ]
  },
  {
   "cell_type": "code",
   "execution_count": 10,
   "metadata": {},
   "outputs": [
    {
     "data": {
      "text/plain": [
       "Perceptron(alpha=0.0001, class_weight=None, eta0=0.1, fit_intercept=True,\n",
       "      n_iter=40, n_jobs=1, penalty=None, random_state=0, shuffle=True,\n",
       "      verbose=0, warm_start=False)"
      ]
     },
     "execution_count": 10,
     "metadata": {},
     "output_type": "execute_result"
    }
   ],
   "source": [
    "#用意されている関数でパーセプトロンのインスタンスを作成\n",
    "from sklearn.linear_model import Perceptron\n",
    "\n",
    "#エポック数40,学習率0.1でパーセプトロンのインターフェイスを生成\n",
    "ppn = Perceptron(n_iter=40,eta0=0.1,random_state=0,shuffle=True)\n",
    "\n",
    "#トレーニングデータをモデルに適合させる\n",
    "ppn.fit(X_train_std,y_train)"
   ]
  },
  {
   "cell_type": "code",
   "execution_count": 12,
   "metadata": {},
   "outputs": [
    {
     "name": "stdout",
     "output_type": "stream",
     "text": [
      "Misclassified samples:4\n"
     ]
    }
   ],
   "source": [
    "y_pred = ppn.predict(X_test_std)\n",
    "print('Misclassified samples:%d' % (y_test != y_pred).sum())"
   ]
  },
  {
   "cell_type": "code",
   "execution_count": 31,
   "metadata": {},
   "outputs": [
    {
     "data": {
      "image/png": "[encoded data removed]",
      "text/plain": [
       "<Figure size 432x288 with 1 Axes>"
      ]
     },
     "metadata": {},
     "output_type": "display_data"
    }
   ],
   "source": [
    "#トレーニングデータとテストデータの特徴量を行報告に結合\n",
    "X_combined_std = np.vstack((X_train_std,X_test_std))\n",
    "#トレーニングデータとテストデータのクラスラベルを結合\n",
    "y_combined = np.hstack((y_train,y_test))\n",
    "\n",
    "#決定領域をプロット\n",
    "plot_decision_regions(X=X_combined_std,y=y_combined,classifier=ppn,test_idx=range(105,150))\n",
    "\n",
    "#軸のラベルの設定\n",
    "plt.xlabel('petal length[standardized]')\n",
    "plt.ylabel('petal width[standardized]')\n",
    "#凡例の設定（左上に配置）\n",
    "plt.legend(loc='upper left')\n",
    "#グラフを表示\n",
    "plt.show()"
   ]
  },
  {
   "cell_type": "markdown",
   "metadata": {},
   "source": [
    "### その他関数"
   ]
  },
  {
   "cell_type": "code",
   "execution_count": 30,
   "metadata": {},
   "outputs": [],
   "source": [
    "from matplotlib.colors import ListedColormap\n",
    "import matplotlib.pyplot as plt\n",
    "\n",
    "def plot_decision_regions(X,y,classifier,test_idx=None,resolution=0.02):\n",
    "    #マーカとカラーマップの準備\n",
    "    markers = ('s','x','o','^','v')\n",
    "    colors = ('red','blue','lightgreen','gray','cyan')\n",
    "    cmap = ListedColormap(colors[:len(np.unique(y))])\n",
    "    \n",
    "    #決定領域をプロット\n",
    "    x1_min,x1_max = X[:,0].min() - 1,X[:,0].max() + 1\n",
    "    x2_min,x2_max = X[:,1].min() - 1,X[:,1].max() + 1\n",
    "    \n",
    "    #グリッドポイントの生成\n",
    "    xx1,xx2 = np.meshgrid(np.arange(x1_min,x1_max,resolution), \\\n",
    "                         np.arange(x2_min,x2_max,resolution))\n",
    "    \n",
    "    #各特徴量を1智元配列に変換して予測を実行\n",
    "    Z= classifier.predict(np.array([xx1.ravel(),xx2.ravel()]).T)\n",
    "    \n",
    "    #予測結果をもとのグリッドポイントのデータベースに変換\n",
    "    Z = Z.reshape(xx1.shape)\n",
    "    \n",
    "    #グリッドポイントの等高線のプロット\n",
    "    plt.contourf(xx1,xx2,Z,alpha=0.4,cmap=cmap)\n",
    "    \n",
    "    #軸の範囲の設定\n",
    "    plt.xlim(xx1.min(),xx1.max())\n",
    "    plt.ylim(xx2.min(),xx2.max())\n",
    "    \n",
    "    #クラスごとにサンプルをプロット\n",
    "    for idx,cl in enumerate(np.unique(y)):\n",
    "        plt.scatter(x=X[y == cl,0],y=X[y == cl,1], \\\n",
    "                   alpha=0.8,c=cmap(idx),marker=markers[idx],label=cl)\n",
    "    \n",
    "    #テストサンプルを目出させる（展を●で表示）\n",
    "        if test_idx:\n",
    "            X_test,y_test = X[test_idx,:],y[test_idx]\n",
    "            plt.scatter(X_test[:,0],X_test[:,1],c='', \\\n",
    "                       alpha=1.0,linewidths=1,marker='o',s=55,label='test set')"
   ]
  },
  {
   "cell_type": "code",
   "execution_count": null,
   "metadata": {
    "collapsed": true
   },
   "outputs": [],
   "source": []
  }
 ],
 "metadata": {
  "kernelspec": {
   "display_name": "Python [conda root]",
   "language": "python",
   "name": "conda-root-py"
  },
  "language_info": {
   "codemirror_mode": {
    "name": "ipython",
    "version": 3
   },
   "file_extension": ".py",
   "mimetype": "text/x-python",
   "name": "python",
   "nbconvert_exporter": "python",
   "pygments_lexer": "ipython3",
   "version": "3.5.5"
  }
 },
 "nbformat": 4,
 "nbformat_minor": 2
}
