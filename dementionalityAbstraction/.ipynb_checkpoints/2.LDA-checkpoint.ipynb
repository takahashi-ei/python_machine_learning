{
 "cells": [
  {
   "cell_type": "markdown",
   "metadata": {},
   "source": [
    "# 概要"
   ]
  },
  {
   "cell_type": "markdown",
   "metadata": {},
   "source": [
    "線形判別分析は、特徴抽出手法の一つである。<br>\n",
    "PCAはデータセットにおいて分散が最も大きい著効成分軸を見つけ出す。<br>\n",
    "LDAはクラスの分散を最適化する特徴部分空間を見つけ出す。<br>\n",
    "<br>\n",
    "LDAは教師ありアルゴリズムなので、分類タスクの特徴抽出の手段に優れているが、<br>\n",
    "画像認識の分類結果はPCAの方がよいことがある。<br>\n",
    "<br>\n",
    "LDAはデータが正規分布に従っていることが前提となる。<br>\n",
    "またクラスの共分散行列が全く同じであり特徴量が統計的に見て互いに独立していることも前提となる<br>\n",
    "この前提は多少満たしていなくても次元削減の手段としてそれなりにうまくいく"
   ]
  },
  {
   "cell_type": "markdown",
   "metadata": {},
   "source": [
    "# 実装"
   ]
  },
  {
   "cell_type": "markdown",
   "metadata": {},
   "source": [
    "実装の流れは下記の通り。<br>\n",
    "1.d次元のデータセットを標準化させる（dは特徴量の個数）<br>\n",
    "2.クラスごとにd次元の平均ベクトルを計算する<br>\n",
    "3.クラス間変動行列$S_B$とクラス内変動行列$S_W$を生成する<br>\n",
    "4.行列$S_W^{-1}S_B$の固有ベクトルと対応する固有値を計算する<br>\n",
    "5.変換行列を作成する<br>\n",
    "6.変換行列を使いサンプルを新しい特徴部分空間へ射影する<br>\n",
    "データセットの標準化は1.PDAで説明したので、平均行列から説明する<br>"
   ]
  },
  {
   "cell_type": "markdown",
   "metadata": {},
   "source": [
    "### 平均行列を計算する"
   ]
  },
  {
   "cell_type": "markdown",
   "metadata": {},
   "source": [
    "各平均ベクトル$m_i$にはクラスiのサンプルに関する平均特徴量の値$\\mu_m$が格納される<br>\n",
    "$m_i=\\frac{1}{n_i}\\sum_{x\\in{D_i}}x$<br>\n",
    "ワインの例では下のようになる<br>\n",
    "$m_i=\\left[\n",
    "    \\begin{array}{cccc}\n",
    "      \\mu_{i,alcohol} \\\\\n",
    "      \\mu_{i,malic acid} \\\\\n",
    "      ・・・\\\\\n",
    "      \\mu_{i,proline}\n",
    "    \\end{array}\n",
    "  \\right]^T i\\in{1,2,3}$\n"
   ]
  },
  {
   "cell_type": "code",
   "execution_count": 13,
   "metadata": {},
   "outputs": [
    {
     "name": "stdout",
     "output_type": "stream",
     "text": [
      "MV 1: [ 0.9259 -0.3091  0.2592 -0.7989  0.3039  0.9608  1.0515 -0.6306  0.5354\n",
      "  0.2209  0.4855  0.798   1.2017]\n",
      "\n",
      "MV 2: [-0.8727 -0.3854 -0.4437  0.2481 -0.2409 -0.1059  0.0187 -0.0164  0.1095\n",
      " -0.8796  0.4392  0.2776 -0.7016]\n",
      "\n",
      "MV 3: [ 0.1637  0.8929  0.3249  0.5658 -0.01   -0.9499 -1.228   0.7436 -0.7652\n",
      "  0.979  -1.1698 -1.3007 -0.3912]\n",
      "\n"
     ]
    }
   ],
   "source": [
    "import numpy as np\n",
    "#有効数字を4桁とする\n",
    "np.set_printoptions(precision=4)\n",
    "\n",
    "mean_vecs = []\n",
    "for label in range(1, 4):\n",
    "    mean_vecs.append(np.mean(X_train_std[y_train == label], axis=0))\n",
    "    print('MV %s: %s\\n' % (label, mean_vecs[label - 1]))"
   ]
  },
  {
   "cell_type": "markdown",
   "metadata": {},
   "source": [
    "### クラス内変動行列とクラス間変動行列を計算する"
   ]
  },
  {
   "cell_type": "markdown",
   "metadata": {},
   "source": [
    "平均ベクトルを使ってクラス内変動行列$S_W$を計算する方法は下記になる。<br>\n",
    "$S_W=\\sum^{c}_{i=1}S_i$<br>\n",
    "$S_i$は下記のように計算される。<br>\n",
    "$S_i=\\sum_{x\\in{D_i}}\\left(x-m_i\\right)\\left(x-m_i\\right)^T$<br>\n",
    "<br>\n",
    "実は、変動行列を求めることは共分散行列$\\Sigma_i$の計算と同じになる。<br>\n",
    "$\\Sigma_i=\\frac{1}{N_i}S_W$"
   ]
  },
  {
   "cell_type": "code",
   "execution_count": 18,
   "metadata": {},
   "outputs": [
    {
     "name": "stdout",
     "output_type": "stream",
     "text": [
      "Within-class scatter matrix: 13x13\n",
      "Class label distribution: [40 49 35]\n"
     ]
    }
   ],
   "source": [
    "d = 13  # number of features\n",
    "S_W = np.zeros((d, d))\n",
    "for label, mv in zip(range(1, 4), mean_vecs):\n",
    "    class_scatter = np.zeros((d, d))  # scatter matrix for each class\n",
    "    for row in X_train_std[y_train == label]:\n",
    "        row, mv = row.reshape(d, 1), mv.reshape(d, 1)  # make column vectors\n",
    "        class_scatter += (row - mv).dot((row - mv).T)\n",
    "    S_W += class_scatter                          # sum class scatter matrices\n",
    "\n",
    "print('Within-class scatter matrix: %sx%s' % (S_W.shape[0], S_W.shape[1]))\n",
    "\n",
    "#前提条件はクラスラベルが一様に分布していることが前提となるが\n",
    "#クラスラベルの個数を出力させるとこの前提を満たしていない\n",
    "print('Class label distribution: %s' \n",
    "      % np.bincount(y_train)[1:])"
   ]
  },
  {
   "cell_type": "markdown",
   "metadata": {},
   "source": [
    "クラス間変動行列$S_B$の計算は下記の通り<br>\n",
    "$S_B=\\sum^{c}_{i=1}N_i\\left(m_i-m\\right)\\left(m_i-m\\right)$<br>\n",
    "$m$:すべてのクラスのサンプルを対象として計算される全体平均"
   ]
  },
  {
   "cell_type": "code",
   "execution_count": 21,
   "metadata": {},
   "outputs": [
    {
     "name": "stdout",
     "output_type": "stream",
     "text": [
      "Between-class scatter matrix: 13x13\n"
     ]
    }
   ],
   "source": [
    "mean_overall = np.mean(X_train_std, axis=0)\n",
    "d = 13  # number of features\n",
    "S_B = np.zeros((d, d))\n",
    "for i, mean_vec in enumerate(mean_vecs):\n",
    "    n = X_train[y_train == i + 1, :].shape[0]\n",
    "    mean_vec = mean_vec.reshape(d, 1)  # make column vector\n",
    "    mean_overall = mean_overall.reshape(d, 1)  # make column vector\n",
    "    S_B += n * (mean_vec - mean_overall).dot((mean_vec - mean_overall).T)\n",
    "\n",
    "print('Between-class scatter matrix: %sx%s' % (S_B.shape[0], S_B.shape[1]))"
   ]
  },
  {
   "cell_type": "markdown",
   "metadata": {},
   "source": [
    "### $S_W^{-1}S_B$の固有ベクトルと固有値を計算する"
   ]
  },
  {
   "cell_type": "markdown",
   "metadata": {},
   "source": [
    "inv関数で逆行列、dot関数で行列積、eig関数で固有値を計算"
   ]
  },
  {
   "cell_type": "code",
   "execution_count": 23,
   "metadata": {
    "collapsed": true
   },
   "outputs": [],
   "source": [
    "eigen_vals, eigen_vecs = np.linalg.eig(np.linalg.inv(S_W).dot(S_B))"
   ]
  },
  {
   "cell_type": "code",
   "execution_count": 24,
   "metadata": {},
   "outputs": [
    {
     "name": "stdout",
     "output_type": "stream",
     "text": [
      "Eigenvalues in decreasing order:\n",
      "\n",
      "10.851109879\n",
      "3.8430695416\n",
      "1.75522814207e-15\n",
      "5.28729014604e-16\n",
      "5.28729014604e-16\n",
      "4.26249295868e-16\n",
      "3.50558009867e-16\n",
      "3.50558009867e-16\n",
      "2.34902816549e-16\n",
      "1.92334784474e-16\n",
      "1.92334784474e-16\n",
      "6.20827959986e-17\n",
      "0.0\n"
     ]
    }
   ],
   "source": [
    "#固有値を大きいものから降順で並び替える\n",
    "eigen_pairs = [(np.abs(eigen_vals[i]), eigen_vecs[:, i])\n",
    "               for i in range(len(eigen_vals))]\n",
    "\n",
    "eigen_pairs = sorted(eigen_pairs, key=lambda k: k[0], reverse=True)\n",
    "\n",
    "print('Eigenvalues in decreasing order:\\n')\n",
    "for eigen_val in eigen_pairs:\n",
    "    print(eigen_val[0])"
   ]
  },
  {
   "cell_type": "markdown",
   "metadata": {},
   "source": [
    "ここでクラスラベルの個数をcとすれば、LDAでの線形反d何可能の個数はc-1個となる。<br>\n",
    "実際にwineではクラスラベル3つなので、固有値は2以外はほぼ0となっている。<br>"
   ]
  },
  {
   "cell_type": "markdown",
   "metadata": {},
   "source": [
    "PCAの例のように固有値の総和を求める。"
   ]
  },
  {
   "cell_type": "code",
   "execution_count": 26,
   "metadata": {},
   "outputs": [
    {
     "data": {
      "image/png": "[encoded data removed]",
      "text/plain": [
       "<matplotlib.figure.Figure at 0x2b1d9e837f0>"
      ]
     },
     "metadata": {},
     "output_type": "display_data"
    }
   ],
   "source": [
    "import matplotlib.pyplot as plt\n",
    "\n",
    "tot = sum(eigen_vals.real)\n",
    "discr = [(i / tot) for i in sorted(eigen_vals.real, reverse=True)]\n",
    "cum_discr = np.cumsum(discr)\n",
    "\n",
    "plt.bar(range(1, 14), discr, alpha=0.5, align='center',\n",
    "        label='individual \"discriminability\"')\n",
    "plt.step(range(1, 14), cum_discr, where='mid',\n",
    "         label='cumulative \"discriminability\"')\n",
    "plt.ylabel('\"discriminability\" ratio')\n",
    "plt.xlabel('Linear Discriminants')\n",
    "plt.ylim([-0.1, 1.1])\n",
    "plt.legend(loc='best')\n",
    "plt.tight_layout()\n",
    "# plt.savefig('./figures/lda1.png', dpi=300)\n",
    "plt.show()"
   ]
  },
  {
   "cell_type": "markdown",
   "metadata": {},
   "source": [
    "### 変換行列を作成する"
   ]
  },
  {
   "cell_type": "markdown",
   "metadata": {},
   "source": [
    "上記より、最初の2つの線形判断でWineトレーニングデート内の有益な情報をほぼ100%補足している。<br>\n",
    "そこで、2つの線形判断で最も判断力のある2つの固有ベクトルを列方向に並べて変換行列wを作成してみる"
   ]
  },
  {
   "cell_type": "code",
   "execution_count": 27,
   "metadata": {},
   "outputs": [
    {
     "name": "stdout",
     "output_type": "stream",
     "text": [
      "Matrix W:\n",
      " [[-0.0758 -0.3623]\n",
      " [ 0.0387 -0.2479]\n",
      " [-0.0232 -0.3675]\n",
      " [ 0.1955  0.2953]\n",
      " [-0.0072  0.0233]\n",
      " [ 0.2424  0.0108]\n",
      " [-0.764   0.2106]\n",
      " [-0.082   0.0715]\n",
      " [ 0.094   0.1604]\n",
      " [ 0.2146 -0.3514]\n",
      " [-0.0556  0.2004]\n",
      " [-0.3623  0.0437]\n",
      " [-0.3398 -0.5862]]\n"
     ]
    }
   ],
   "source": [
    "w = np.hstack((eigen_pairs[0][1][:, np.newaxis].real,\n",
    "              eigen_pairs[1][1][:, np.newaxis].real))\n",
    "print('Matrix W:\\n', w)"
   ]
  },
  {
   "cell_type": "markdown",
   "metadata": {},
   "source": [
    "### サンプルを特徴部分空間へ射影する"
   ]
  },
  {
   "cell_type": "code",
   "execution_count": 29,
   "metadata": {},
   "outputs": [
    {
     "data": {
      "image/png": "[encoded data removed]",
      "text/plain": [
       "<matplotlib.figure.Figure at 0x2b1dacac8d0>"
      ]
     },
     "metadata": {},
     "output_type": "display_data"
    }
   ],
   "source": [
    "X_train_lda = X_train_std.dot(w)\n",
    "colors = ['r', 'b', 'g']\n",
    "markers = ['s', 'x', 'o']\n",
    "\n",
    "for l, c, m in zip(np.unique(y_train), colors, markers):\n",
    "    plt.scatter(X_train_lda[y_train == l, 0] * (-1),\n",
    "                X_train_lda[y_train == l, 1] * (-1),\n",
    "                c=c, label=l, marker=m)\n",
    "\n",
    "plt.xlabel('LD 1')\n",
    "plt.ylabel('LD 2')\n",
    "plt.legend(loc='lower right')\n",
    "plt.tight_layout()\n",
    "# plt.savefig('./figures/lda2.png', dpi=300)\n",
    "plt.show()"
   ]
  },
  {
   "cell_type": "markdown",
   "metadata": {},
   "source": [
    "# scikit-learnによるLDA"
   ]
  },
  {
   "cell_type": "code",
   "execution_count": 31,
   "metadata": {},
   "outputs": [
    {
     "data": {
      "text/plain": [
       "array([ 0.7385,  0.2615])"
      ]
     },
     "execution_count": 31,
     "metadata": {},
     "output_type": "execute_result"
    }
   ],
   "source": [
    "if Version(sklearn_version) < '0.18':\n",
    "    from sklearn.lda import LDA\n",
    "else:\n",
    "    from sklearn.discriminant_analysis import LinearDiscriminantAnalysis as LDA\n",
    "\n",
    "lda = LDA()\n",
    "X_train_lda = lda.fit_transform(X_train_std,y_train)\n",
    "lda.explained_variance_ratio_"
   ]
  },
  {
   "cell_type": "code",
   "execution_count": 34,
   "metadata": {},
   "outputs": [
    {
     "data": {
      "image/png": "[encoded data removed]",
      "text/plain": [
       "<matplotlib.figure.Figure at 0x2b1dc0490b8>"
      ]
     },
     "metadata": {},
     "output_type": "display_data"
    }
   ],
   "source": [
    "from sklearn.linear_model import LogisticRegression\n",
    "lr = LogisticRegression()\n",
    "lr = lr.fit(X_train_lda, y_train)\n",
    "\n",
    "plot_decision_regions(X_train_lda, y_train, classifier=lr)\n",
    "plt.xlabel('LD 1')\n",
    "plt.ylabel('LD 2')\n",
    "plt.legend(loc='lower left')\n",
    "plt.tight_layout()\n",
    "# plt.savefig('./images/lda3.png', dpi=300)\n",
    "plt.show()"
   ]
  },
  {
   "cell_type": "code",
   "execution_count": 35,
   "metadata": {},
   "outputs": [
    {
     "data": {
      "image/png": "[encoded data removed]",
      "text/plain": [
       "<matplotlib.figure.Figure at 0x2b1dbdadfd0>"
      ]
     },
     "metadata": {},
     "output_type": "display_data"
    }
   ],
   "source": [
    "X_test_lda = lda.transform(X_test_std)\n",
    "\n",
    "plot_decision_regions(X_test_lda, y_test, classifier=lr)\n",
    "plt.xlabel('LD 1')\n",
    "plt.ylabel('LD 2')\n",
    "plt.legend(loc='lower left')\n",
    "plt.tight_layout()\n",
    "# plt.savefig('./images/lda4.png', dpi=300)\n",
    "plt.show()"
   ]
  },
  {
   "cell_type": "markdown",
   "metadata": {},
   "source": [
    "# その他の関数"
   ]
  },
  {
   "cell_type": "code",
   "execution_count": 8,
   "metadata": {
    "collapsed": true
   },
   "outputs": [],
   "source": [
    "# Added version check for recent scikit-learn 0.18 checks\n",
    "from distutils.version import LooseVersion as Version\n",
    "from sklearn import __version__ as sklearn_version"
   ]
  },
  {
   "cell_type": "code",
   "execution_count": 9,
   "metadata": {},
   "outputs": [],
   "source": [
    "import pandas as pd\n",
    "import numpy as np\n",
    "from sklearn.cross_validation import train_test_split\n",
    "from sklearn.preprocessing import StandardScaler\n",
    "\n",
    "#Wineデータセットを読み込む\n",
    "df_wine = pd.read_csv('https://archive.ics.uci.edu/ml/machine-learning-databases/wine/wine.data',\\\n",
    "                     header=None)\n",
    "#列名を設定\n",
    "df_wine.columns = ['Class label','Alcohol','Malic acid','Ash',\\\n",
    "                      'Alcalinity of ash','Magnesium','Total phenols','Flavanoids', \\\n",
    "                   'Nonflavanoid phenols','Proanthocyanics','Color intensity','Hue', \\\n",
    "                  'OD280/OD315 of diluted wines','Proline']\n",
    "\n",
    "#特徴量とクラスラベルを別々に抽出\n",
    "#sklearn_versionが0.18以上の場合、sklearn_versionは異なる\n",
    "X,y = df_wine.iloc[:,1:].values,df_wine.iloc[:,0].values\n",
    "if Version(sklearn_version) < '0.18':\n",
    "    from sklearn.cross_validation import train_test_split\n",
    "else:\n",
    "    from sklearn.model_selection import train_test_split\n",
    "X_train, X_test, y_train, y_test = \\\n",
    "    train_test_split(X, y, test_size=0.3, random_state=0)\n",
    "\n"
   ]
  },
  {
   "cell_type": "code",
   "execution_count": 11,
   "metadata": {
    "collapsed": true
   },
   "outputs": [],
   "source": [
    "sc = StandardScaler()\n",
    "X_train_std = sc.fit_transform(X_train)\n",
    "X_test_std = sc.fit_transform(X_test)"
   ]
  },
  {
   "cell_type": "code",
   "execution_count": 33,
   "metadata": {
    "collapsed": true
   },
   "outputs": [],
   "source": [
    "from matplotlib.colors import ListedColormap\n",
    "\n",
    "def plot_decision_regions(X, y, classifier, resolution=0.02):\n",
    "\n",
    "    # setup marker generator and color map\n",
    "    markers = ('s', 'x', 'o', '^', 'v')\n",
    "    colors = ('red', 'blue', 'lightgreen', 'gray', 'cyan')\n",
    "    cmap = ListedColormap(colors[:len(np.unique(y))])\n",
    "\n",
    "    # plot the decision surface\n",
    "    x1_min, x1_max = X[:, 0].min() - 1, X[:, 0].max() + 1\n",
    "    x2_min, x2_max = X[:, 1].min() - 1, X[:, 1].max() + 1\n",
    "    xx1, xx2 = np.meshgrid(np.arange(x1_min, x1_max, resolution),\n",
    "                           np.arange(x2_min, x2_max, resolution))\n",
    "    Z = classifier.predict(np.array([xx1.ravel(), xx2.ravel()]).T)\n",
    "    Z = Z.reshape(xx1.shape)\n",
    "    plt.contourf(xx1, xx2, Z, alpha=0.4, cmap=cmap)\n",
    "    plt.xlim(xx1.min(), xx1.max())\n",
    "    plt.ylim(xx2.min(), xx2.max())\n",
    "\n",
    "    # plot class samples\n",
    "    for idx, cl in enumerate(np.unique(y)):\n",
    "        plt.scatter(x=X[y == cl, 0], \n",
    "                    y=X[y == cl, 1],\n",
    "                    alpha=0.6, \n",
    "                    c=cmap(idx),\n",
    "                    edgecolor='black',\n",
    "                    marker=markers[idx], \n",
    "                    label=cl)"
   ]
  },
  {
   "cell_type": "code",
   "execution_count": null,
   "metadata": {
    "collapsed": true
   },
   "outputs": [],
   "source": []
  }
 ],
 "metadata": {
  "kernelspec": {
   "display_name": "Python 3",
   "language": "python",
   "name": "python3"
  },
  "language_info": {
   "codemirror_mode": {
    "name": "ipython",
    "version": 3
   },
   "file_extension": ".py",
   "mimetype": "text/x-python",
   "name": "python",
   "nbconvert_exporter": "python",
   "pygments_lexer": "ipython3",
   "version": "3.6.1"
  }
 },
 "nbformat": 4,
 "nbformat_minor": 2
}
