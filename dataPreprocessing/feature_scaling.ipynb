{
 "cells": [
  {
   "cell_type": "markdown",
   "metadata": {},
   "source": [
    "# 概要"
   ]
  },
  {
   "cell_type": "markdown",
   "metadata": {},
   "source": [
    "機械学習と最適化のアルゴリズムの大半は、特徴量の尺度が同じである場合に、<br>\n",
    "はるかにうまく動作する<br>\n",
    "複数の特徴量の尺度を揃える一般的な手法として正規化と標準化となる。<br>\n",
    "正規化は、特徴量を[0,1]の範囲にスケーリングしなおすことを意味し、式にすると下のようになる<br>\n",
    "$x^{(i)}_{norm}=\\frac{x^{i} - x_{min}}{x_{max}-x_{min}}$<br>\n",
    "$x_{min}$:特徴量の列において最も小さい値<br>\n",
    "$x_{max}$:特徴量の列において最も大きい値<br>\n",
    "標準化は、返金値0,標準誤差1となるように変換することを意味し、式にすると下のようになる<br>\n",
    "$x^{(i)}_{std}=\\frac{x^{(i)}-\\mu_{x}}{\\sigma_{x}}$<br>\n",
    "$\\mu_{x}:特徴量の列の平均$<br>\n",
    "$\\sigma_{x}:特徴量の列の標準偏差$<br>\n",
    "一般に標準化の方が正規分布に従うため重みを学習しやすくなり、外れ値の有効な情報を保持したまま受ける影響が少なくなる\n"
   ]
  },
  {
   "cell_type": "code",
   "execution_count": 7,
   "metadata": {
    "collapsed": true
   },
   "outputs": [],
   "source": [
    "#min-maxスケーリングのインスタンスを生成し、正規化を行う\n",
    "from sklearn.preprocessing import MinMaxScaler\n",
    "mms = MinMaxScaler()\n",
    "X_train_norm = mms.fit_transform(X_train)\n",
    "X_test_norm = mms.fit_transform(X_test)\n",
    "\n",
    "#StandardScatterクラスを利用し、標準化を行う\n",
    "from sklearn.preprocessing import StandardScaler\n",
    "stdsc = StandardScaler()\n",
    "\n",
    "X_train_std = stdsc.fit_transform(X_train)\n",
    "X_test_std = stdsc.fit_transform(X_test)"
   ]
  },
  {
   "cell_type": "markdown",
   "metadata": {},
   "source": [
    "# その他の関数"
   ]
  },
  {
   "cell_type": "code",
   "execution_count": 6,
   "metadata": {},
   "outputs": [],
   "source": [
    "#テストデータとトレインデータの分類\n",
    "#sklearnで用意されている関数を使って分類する\n",
    "from sklearn import datasets\n",
    "import numpy as np\n",
    "from sklearn.cross_validation import train_test_split\n",
    "from sklearn.preprocessing import StandardScaler\n",
    "\n",
    "#Irisデータセットをロード\n",
    "iris = datasets.load_iris()\n",
    "\n",
    "#3列目4列目の特徴量を抽出\n",
    "X = iris.data[:,[2,3]]\n",
    "#クラスラベルを取得\n",
    "y = iris.target\n",
    "\n",
    "#トレーニングデータとテストデータに分類\n",
    "#sklearnで用意されている関数を使って分離する\n",
    "#全体の30%をテストデータにする\n",
    "X_train,X_test,y_train,y_test = train_test_split(\\\n",
    "                                                X,y,test_size=0.3,random_state=0)\n",
    "\n",
    "#StandardScalerをつかって、トレーニングデータを標準化\n",
    "sc = StandardScaler()\n",
    "#トレーニングデータの平均と標準偏差を計算\n",
    "sc.fit(X_train)\n",
    "#平均と標準偏差を用いて標準化\n",
    "X_train_std = sc.transform(X_train)\n",
    "X_test_std = sc.transform(X_test)\n",
    "\n",
    "#トレーニングデータとテストデータの特徴量を行報告に結合\n",
    "X_combined_std = np.vstack((X_train_std,X_test_std))\n",
    "#トレーニングデータとテストデータのクラスラベルを結合\n",
    "y_combined = np.hstack((y_train,y_test))\n"
   ]
  },
  {
   "cell_type": "code",
   "execution_count": null,
   "metadata": {
    "collapsed": true
   },
   "outputs": [],
   "source": []
  }
 ],
 "metadata": {
  "kernelspec": {
   "display_name": "Python 3",
   "language": "python",
   "name": "python3"
  },
  "language_info": {
   "codemirror_mode": {
    "name": "ipython",
    "version": 3
   },
   "file_extension": ".py",
   "mimetype": "text/x-python",
   "name": "python",
   "nbconvert_exporter": "python",
   "pygments_lexer": "ipython3",
   "version": "3.6.1"
  }
 },
 "nbformat": 4,
 "nbformat_minor": 2
}
